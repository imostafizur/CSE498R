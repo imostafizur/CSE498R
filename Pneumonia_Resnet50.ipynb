{
  "cells": [
    {
      "cell_type": "code",
      "execution_count": 3,
      "metadata": {
        "colab": {
          "base_uri": "https://localhost:8080/"
        },
        "id": "HWN9cs2yj0cy",
        "outputId": "b2871bde-4988-4662-fcf9-864ee2017393"
      },
      "outputs": [
        {
          "name": "stdout",
          "output_type": "stream",
          "text": [
            "fatal: destination path 'CSE498R' already exists and is not an empty directory.\n"
          ]
        }
      ],
      "source": [
        "!git clone https://github.com/imostafizur/CSE498R.git"
      ]
    },
    {
      "cell_type": "markdown",
      "metadata": {
        "id": "fxV9bHTejh1U"
      },
      "source": [
        "# Pneumonia Detection with Resnet50"
      ]
    },
    {
      "cell_type": "code",
      "execution_count": 4,
      "metadata": {
        "id": "pPf2cCzzjh1e"
      },
      "outputs": [],
      "source": [
        "import tensorflow as tf\n",
        "from tensorflow.keras.preprocessing.image import ImageDataGenerator\n",
        "from tensorflow.keras.applications.resnet50 import ResNet50\n",
        "from tensorflow.keras.layers import Dense, GlobalAveragePooling2D\n",
        "from tensorflow.keras.models import Model\n",
        "from tensorflow.keras.optimizers import Adam\n",
        "from tensorflow.keras.callbacks import ModelCheckpoint, EarlyStopping\n",
        "import os\n",
        "import numpy as np\n",
        "import matplotlib.pyplot as plt\n",
        "%matplotlib inline"
      ]
    },
    {
      "cell_type": "code",
      "execution_count": 5,
      "metadata": {
        "id": "cdDOWKXSjh1g"
      },
      "outputs": [],
      "source": [
        "image = ('Pneumonia')"
      ]
    },
    {
      "cell_type": "code",
      "execution_count": 6,
      "metadata": {
        "colab": {
          "base_uri": "https://localhost:8080/"
        },
        "id": "Rx7rDxZyjh1h",
        "outputId": "7479d5ca-f31c-469f-e818-e8f21a3408f5"
      },
      "outputs": [
        {
          "name": "stdout",
          "output_type": "stream",
          "text": [
            "Total number of images in Pneumonia folder: 2\n",
            "Total number of images in Normal folder: 1342\n",
            "Total number of images in Pneumonia folder: 3876\n"
          ]
        }
      ],
      "source": [
        "# Count the number of images in Pneumonia and Normal folders\n",
        "print('Total number of images in Pneumonia folder:', len(os.listdir('Pneumonia')))\n",
        "print('Total number of images in Normal folder:', len(os.listdir('Pneumonia/NORMAL')))\n",
        "print('Total number of images in Pneumonia folder:', len(os.listdir('Pneumonia/PNEUMONIA')))"
      ]
    },
    {
      "cell_type": "code",
      "execution_count": 7,
      "metadata": {
        "colab": {
          "base_uri": "https://localhost:8080/"
        },
        "id": "G5qGQBWQjh1j",
        "outputId": "43c55230-7364-4d69-9094-2e263234ba81"
      },
      "outputs": [
        {
          "name": "stdout",
          "output_type": "stream",
          "text": [
            "Found 5216 images belonging to 2 classes.\n",
            "Found 5216 images belonging to 2 classes.\n"
          ]
        }
      ],
      "source": [
        "# Create a data generator for training and validation sets\n",
        "train_datagen = ImageDataGenerator(rescale=1./255, shear_range=0.2, zoom_range=0.2, horizontal_flip=True)\n",
        "val_datagen = ImageDataGenerator(rescale=1./255)\n",
        "\n",
        "# Create a training set\n",
        "train_set = train_datagen.flow_from_directory('Pneumonia', target_size=(224, 224), batch_size=32, class_mode='binary')\n",
        "\n",
        "# Create a validation set\n",
        "val_set = val_datagen.flow_from_directory('Pneumonia', target_size=(224, 224), batch_size=32, class_mode='binary')"
      ]
    },
    {
      "cell_type": "code",
      "execution_count": 8,
      "metadata": {
        "colab": {
          "base_uri": "https://localhost:8080/"
        },
        "id": "4QtT59hFjh1k",
        "outputId": "3cbe5b83-30db-4f2d-b9a5-74ebd75889b4"
      },
      "outputs": [
        {
          "name": "stdout",
          "output_type": "stream",
          "text": [
            "Downloading data from https://storage.googleapis.com/tensorflow/keras-applications/resnet/resnet50_weights_tf_dim_ordering_tf_kernels_notop.h5\n",
            "94773248/94765736 [==============================] - 0s 0us/step\n",
            "94781440/94765736 [==============================] - 0s 0us/step\n"
          ]
        }
      ],
      "source": [
        "# Create a ResNet50 model\n",
        "base_model = ResNet50(weights='imagenet', include_top=False, input_shape=(224, 224, 3))"
      ]
    },
    {
      "cell_type": "code",
      "execution_count": 9,
      "metadata": {
        "colab": {
          "base_uri": "https://localhost:8080/"
        },
        "id": "scrswsUHjh1l",
        "outputId": "4ec0c7f8-1d29-4c1c-856c-c2e5ce48ce88"
      },
      "outputs": [
        {
          "name": "stderr",
          "output_type": "stream",
          "text": [
            "/usr/local/lib/python3.7/dist-packages/keras/optimizer_v2/adam.py:105: UserWarning: The `lr` argument is deprecated, use `learning_rate` instead.\n",
            "  super(Adam, self).__init__(name, **kwargs)\n"
          ]
        }
      ],
      "source": [
        "# Freeze the layers of the model\n",
        "for layer in base_model.layers:\n",
        "    layer.trainable = False\n",
        "\n",
        "# Add a global average pooling layer\n",
        "x = base_model.output\n",
        "x = GlobalAveragePooling2D()(x)\n",
        "\n",
        "# Add a fully connected layer\n",
        "x = Dense(1024, activation='relu')(x)\n",
        "\n",
        "# Add a logistic layer\n",
        "predictions = Dense(1, activation='sigmoid')(x)\n",
        "\n",
        "# Create a model\n",
        "model = Model(inputs=base_model.input, outputs=predictions)\n",
        "\n",
        "# Compile the model\n",
        "model.compile(optimizer=Adam(lr=0.0001), loss='binary_crossentropy', metrics=['accuracy'])\n",
        "\n",
        "# Create a checkpoint\n",
        "checkpoint = ModelCheckpoint('Pneumonia_Resnet50.h5', monitor='val_accuracy', verbose=1, save_best_only=True, save_weights_only=False, mode='auto', save_freq='epoch')\n",
        "\n",
        "# Create an early stopping\n",
        "early = EarlyStopping(monitor='val_accuracy', min_delta=0, patience=10, verbose=1, mode='auto')\n"
      ]
    },
    {
      "cell_type": "code",
      "execution_count": 10,
      "metadata": {
        "colab": {
          "base_uri": "https://localhost:8080/"
        },
        "id": "ZhGW69Bkjh1n",
        "outputId": "725aaa81-aa02-453d-a3f7-c21e66a3030f"
      },
      "outputs": [
        {
          "name": "stdout",
          "output_type": "stream",
          "text": [
            "Epoch 1/50\n",
            "163/163 [==============================] - ETA: 0s - loss: 0.5409 - accuracy: 0.7418\n",
            "Epoch 1: val_accuracy improved from -inf to 0.74291, saving model to Pneumonia_Resnet50.h5\n",
            "163/163 [==============================] - 162s 903ms/step - loss: 0.5409 - accuracy: 0.7418 - val_loss: 0.4989 - val_accuracy: 0.7429\n",
            "Epoch 2/50\n",
            "163/163 [==============================] - ETA: 0s - loss: 0.4915 - accuracy: 0.7498\n",
            "Epoch 2: val_accuracy improved from 0.74291 to 0.76208, saving model to Pneumonia_Resnet50.h5\n",
            "163/163 [==============================] - 146s 900ms/step - loss: 0.4915 - accuracy: 0.7498 - val_loss: 0.4525 - val_accuracy: 0.7621\n",
            "Epoch 3/50\n",
            "163/163 [==============================] - ETA: 0s - loss: 0.4601 - accuracy: 0.7697\n",
            "Epoch 3: val_accuracy did not improve from 0.76208\n",
            "163/163 [==============================] - 145s 889ms/step - loss: 0.4601 - accuracy: 0.7697 - val_loss: 0.4385 - val_accuracy: 0.7523\n",
            "Epoch 4/50\n",
            "163/163 [==============================] - ETA: 0s - loss: 0.4312 - accuracy: 0.7855\n",
            "Epoch 4: val_accuracy improved from 0.76208 to 0.82304, saving model to Pneumonia_Resnet50.h5\n",
            "163/163 [==============================] - 145s 890ms/step - loss: 0.4312 - accuracy: 0.7855 - val_loss: 0.4049 - val_accuracy: 0.8230\n",
            "Epoch 5/50\n",
            "163/163 [==============================] - ETA: 0s - loss: 0.4207 - accuracy: 0.7931\n",
            "Epoch 5: val_accuracy improved from 0.82304 to 0.83416, saving model to Pneumonia_Resnet50.h5\n",
            "163/163 [==============================] - 146s 898ms/step - loss: 0.4207 - accuracy: 0.7931 - val_loss: 0.3941 - val_accuracy: 0.8342\n",
            "Epoch 6/50\n",
            "163/163 [==============================] - ETA: 0s - loss: 0.4116 - accuracy: 0.7947\n",
            "Epoch 6: val_accuracy improved from 0.83416 to 0.84433, saving model to Pneumonia_Resnet50.h5\n",
            "163/163 [==============================] - 145s 890ms/step - loss: 0.4116 - accuracy: 0.7947 - val_loss: 0.3940 - val_accuracy: 0.8443\n",
            "Epoch 7/50\n",
            "163/163 [==============================] - ETA: 0s - loss: 0.3945 - accuracy: 0.8087\n",
            "Epoch 7: val_accuracy did not improve from 0.84433\n",
            "163/163 [==============================] - 145s 889ms/step - loss: 0.3945 - accuracy: 0.8087 - val_loss: 0.3666 - val_accuracy: 0.8441\n",
            "Epoch 8/50\n",
            "163/163 [==============================] - ETA: 0s - loss: 0.3839 - accuracy: 0.8146\n",
            "Epoch 8: val_accuracy did not improve from 0.84433\n",
            "163/163 [==============================] - 145s 891ms/step - loss: 0.3839 - accuracy: 0.8146 - val_loss: 0.3506 - val_accuracy: 0.8353\n",
            "Epoch 9/50\n",
            "163/163 [==============================] - ETA: 0s - loss: 0.3756 - accuracy: 0.8209\n",
            "Epoch 9: val_accuracy did not improve from 0.84433\n",
            "163/163 [==============================] - 145s 890ms/step - loss: 0.3756 - accuracy: 0.8209 - val_loss: 0.3539 - val_accuracy: 0.8181\n",
            "Epoch 10/50\n",
            "163/163 [==============================] - ETA: 0s - loss: 0.3674 - accuracy: 0.8253\n",
            "Epoch 10: val_accuracy did not improve from 0.84433\n",
            "163/163 [==============================] - 146s 895ms/step - loss: 0.3674 - accuracy: 0.8253 - val_loss: 0.3396 - val_accuracy: 0.8349\n",
            "Epoch 11/50\n",
            "163/163 [==============================] - ETA: 0s - loss: 0.3639 - accuracy: 0.8303\n",
            "Epoch 11: val_accuracy improved from 0.84433 to 0.85717, saving model to Pneumonia_Resnet50.h5\n",
            "163/163 [==============================] - 146s 899ms/step - loss: 0.3639 - accuracy: 0.8303 - val_loss: 0.3297 - val_accuracy: 0.8572\n",
            "Epoch 12/50\n",
            "163/163 [==============================] - ETA: 0s - loss: 0.3521 - accuracy: 0.8347\n",
            "Epoch 12: val_accuracy improved from 0.85717 to 0.85851, saving model to Pneumonia_Resnet50.h5\n",
            "163/163 [==============================] - 148s 912ms/step - loss: 0.3521 - accuracy: 0.8347 - val_loss: 0.3228 - val_accuracy: 0.8585\n",
            "Epoch 13/50\n",
            "163/163 [==============================] - ETA: 0s - loss: 0.3476 - accuracy: 0.8399\n",
            "Epoch 13: val_accuracy did not improve from 0.85851\n",
            "163/163 [==============================] - 145s 893ms/step - loss: 0.3476 - accuracy: 0.8399 - val_loss: 0.3183 - val_accuracy: 0.8531\n",
            "Epoch 14/50\n",
            "163/163 [==============================] - ETA: 0s - loss: 0.3362 - accuracy: 0.8461\n",
            "Epoch 14: val_accuracy improved from 0.85851 to 0.86982, saving model to Pneumonia_Resnet50.h5\n",
            "163/163 [==============================] - 146s 900ms/step - loss: 0.3362 - accuracy: 0.8461 - val_loss: 0.3298 - val_accuracy: 0.8698\n",
            "Epoch 15/50\n",
            "163/163 [==============================] - ETA: 0s - loss: 0.3337 - accuracy: 0.8441\n",
            "Epoch 15: val_accuracy did not improve from 0.86982\n",
            "163/163 [==============================] - 145s 894ms/step - loss: 0.3337 - accuracy: 0.8441 - val_loss: 0.3045 - val_accuracy: 0.8608\n",
            "Epoch 16/50\n",
            "163/163 [==============================] - ETA: 0s - loss: 0.3275 - accuracy: 0.8493\n",
            "Epoch 16: val_accuracy improved from 0.86982 to 0.87500, saving model to Pneumonia_Resnet50.h5\n",
            "163/163 [==============================] - 146s 899ms/step - loss: 0.3275 - accuracy: 0.8493 - val_loss: 0.3023 - val_accuracy: 0.8750\n",
            "Epoch 17/50\n",
            "163/163 [==============================] - ETA: 0s - loss: 0.3173 - accuracy: 0.8543\n",
            "Epoch 17: val_accuracy did not improve from 0.87500\n",
            "163/163 [==============================] - 145s 893ms/step - loss: 0.3173 - accuracy: 0.8543 - val_loss: 0.2976 - val_accuracy: 0.8746\n",
            "Epoch 18/50\n",
            "163/163 [==============================] - ETA: 0s - loss: 0.3138 - accuracy: 0.8554\n",
            "Epoch 18: val_accuracy improved from 0.87500 to 0.87538, saving model to Pneumonia_Resnet50.h5\n",
            "163/163 [==============================] - 146s 900ms/step - loss: 0.3138 - accuracy: 0.8554 - val_loss: 0.3134 - val_accuracy: 0.8754\n",
            "Epoch 19/50\n",
            "163/163 [==============================] - ETA: 0s - loss: 0.3084 - accuracy: 0.8595\n",
            "Epoch 19: val_accuracy did not improve from 0.87538\n",
            "163/163 [==============================] - 146s 897ms/step - loss: 0.3084 - accuracy: 0.8595 - val_loss: 0.2917 - val_accuracy: 0.8623\n",
            "Epoch 20/50\n",
            "163/163 [==============================] - ETA: 0s - loss: 0.2999 - accuracy: 0.8631\n",
            "Epoch 20: val_accuracy improved from 0.87538 to 0.87960, saving model to Pneumonia_Resnet50.h5\n",
            "163/163 [==============================] - 147s 900ms/step - loss: 0.2999 - accuracy: 0.8631 - val_loss: 0.3187 - val_accuracy: 0.8796\n",
            "Epoch 21/50\n",
            "163/163 [==============================] - ETA: 0s - loss: 0.3070 - accuracy: 0.8600\n",
            "Epoch 21: val_accuracy improved from 0.87960 to 0.88516, saving model to Pneumonia_Resnet50.h5\n",
            "163/163 [==============================] - 146s 900ms/step - loss: 0.3070 - accuracy: 0.8600 - val_loss: 0.2754 - val_accuracy: 0.8852\n",
            "Epoch 22/50\n",
            "163/163 [==============================] - ETA: 0s - loss: 0.2970 - accuracy: 0.8692\n",
            "Epoch 22: val_accuracy did not improve from 0.88516\n",
            "163/163 [==============================] - 146s 897ms/step - loss: 0.2970 - accuracy: 0.8692 - val_loss: 0.2903 - val_accuracy: 0.8848\n",
            "Epoch 23/50\n",
            "163/163 [==============================] - ETA: 0s - loss: 0.2901 - accuracy: 0.8702\n",
            "Epoch 23: val_accuracy did not improve from 0.88516\n",
            "163/163 [==============================] - 145s 891ms/step - loss: 0.2901 - accuracy: 0.8702 - val_loss: 0.2673 - val_accuracy: 0.8811\n",
            "Epoch 24/50\n",
            "163/163 [==============================] - ETA: 0s - loss: 0.2931 - accuracy: 0.8719\n",
            "Epoch 24: val_accuracy improved from 0.88516 to 0.89283, saving model to Pneumonia_Resnet50.h5\n",
            "163/163 [==============================] - 145s 893ms/step - loss: 0.2931 - accuracy: 0.8719 - val_loss: 0.2631 - val_accuracy: 0.8928\n",
            "Epoch 25/50\n",
            "163/163 [==============================] - ETA: 0s - loss: 0.2854 - accuracy: 0.8786\n",
            "Epoch 25: val_accuracy did not improve from 0.89283\n",
            "163/163 [==============================] - 145s 888ms/step - loss: 0.2854 - accuracy: 0.8786 - val_loss: 0.2582 - val_accuracy: 0.8905\n",
            "Epoch 26/50\n",
            "163/163 [==============================] - ETA: 0s - loss: 0.2967 - accuracy: 0.8721\n",
            "Epoch 26: val_accuracy improved from 0.89283 to 0.89360, saving model to Pneumonia_Resnet50.h5\n",
            "163/163 [==============================] - 145s 894ms/step - loss: 0.2967 - accuracy: 0.8721 - val_loss: 0.2549 - val_accuracy: 0.8936\n",
            "Epoch 27/50\n",
            "163/163 [==============================] - ETA: 0s - loss: 0.2729 - accuracy: 0.8832\n",
            "Epoch 27: val_accuracy did not improve from 0.89360\n",
            "163/163 [==============================] - 147s 901ms/step - loss: 0.2729 - accuracy: 0.8832 - val_loss: 0.2628 - val_accuracy: 0.8924\n",
            "Epoch 28/50\n",
            "163/163 [==============================] - ETA: 0s - loss: 0.2782 - accuracy: 0.8788\n",
            "Epoch 28: val_accuracy improved from 0.89360 to 0.89571, saving model to Pneumonia_Resnet50.h5\n",
            "163/163 [==============================] - 148s 906ms/step - loss: 0.2782 - accuracy: 0.8788 - val_loss: 0.2580 - val_accuracy: 0.8957\n",
            "Epoch 29/50\n",
            "163/163 [==============================] - ETA: 0s - loss: 0.2778 - accuracy: 0.8804\n",
            "Epoch 29: val_accuracy did not improve from 0.89571\n",
            "163/163 [==============================] - 148s 907ms/step - loss: 0.2778 - accuracy: 0.8804 - val_loss: 0.2633 - val_accuracy: 0.8919\n",
            "Epoch 30/50\n",
            "163/163 [==============================] - ETA: 0s - loss: 0.2685 - accuracy: 0.8859\n",
            "Epoch 30: val_accuracy improved from 0.89571 to 0.89590, saving model to Pneumonia_Resnet50.h5\n",
            "163/163 [==============================] - 149s 916ms/step - loss: 0.2685 - accuracy: 0.8859 - val_loss: 0.2449 - val_accuracy: 0.8959\n",
            "Epoch 31/50\n",
            "163/163 [==============================] - ETA: 0s - loss: 0.2739 - accuracy: 0.8844\n",
            "Epoch 31: val_accuracy improved from 0.89590 to 0.89628, saving model to Pneumonia_Resnet50.h5\n",
            "163/163 [==============================] - 149s 916ms/step - loss: 0.2739 - accuracy: 0.8844 - val_loss: 0.2485 - val_accuracy: 0.8963\n",
            "Epoch 32/50\n",
            "163/163 [==============================] - ETA: 0s - loss: 0.2646 - accuracy: 0.8838\n",
            "Epoch 32: val_accuracy did not improve from 0.89628\n",
            "163/163 [==============================] - 145s 893ms/step - loss: 0.2646 - accuracy: 0.8838 - val_loss: 0.2410 - val_accuracy: 0.8953\n",
            "Epoch 33/50\n",
            "163/163 [==============================] - ETA: 0s - loss: 0.2644 - accuracy: 0.8863\n",
            "Epoch 33: val_accuracy did not improve from 0.89628\n",
            "163/163 [==============================] - 145s 892ms/step - loss: 0.2644 - accuracy: 0.8863 - val_loss: 0.2690 - val_accuracy: 0.8944\n",
            "Epoch 34/50\n",
            "163/163 [==============================] - ETA: 0s - loss: 0.2625 - accuracy: 0.8871\n",
            "Epoch 34: val_accuracy improved from 0.89628 to 0.90357, saving model to Pneumonia_Resnet50.h5\n",
            "163/163 [==============================] - 146s 896ms/step - loss: 0.2625 - accuracy: 0.8871 - val_loss: 0.2449 - val_accuracy: 0.9036\n",
            "Epoch 35/50\n",
            "163/163 [==============================] - ETA: 0s - loss: 0.2667 - accuracy: 0.8857\n",
            "Epoch 35: val_accuracy did not improve from 0.90357\n",
            "163/163 [==============================] - 145s 890ms/step - loss: 0.2667 - accuracy: 0.8857 - val_loss: 0.2472 - val_accuracy: 0.9007\n",
            "Epoch 36/50\n",
            "163/163 [==============================] - ETA: 0s - loss: 0.2594 - accuracy: 0.8890\n",
            "Epoch 36: val_accuracy did not improve from 0.90357\n",
            "163/163 [==============================] - 145s 888ms/step - loss: 0.2594 - accuracy: 0.8890 - val_loss: 0.2801 - val_accuracy: 0.8857\n",
            "Epoch 37/50\n",
            "163/163 [==============================] - ETA: 0s - loss: 0.2586 - accuracy: 0.8875\n",
            "Epoch 37: val_accuracy did not improve from 0.90357\n",
            "163/163 [==============================] - 145s 890ms/step - loss: 0.2586 - accuracy: 0.8875 - val_loss: 0.2929 - val_accuracy: 0.8813\n",
            "Epoch 38/50\n",
            "163/163 [==============================] - ETA: 0s - loss: 0.2540 - accuracy: 0.8877\n",
            "Epoch 38: val_accuracy improved from 0.90357 to 0.90452, saving model to Pneumonia_Resnet50.h5\n",
            "163/163 [==============================] - 145s 891ms/step - loss: 0.2540 - accuracy: 0.8877 - val_loss: 0.2365 - val_accuracy: 0.9045\n",
            "Epoch 39/50\n",
            "163/163 [==============================] - ETA: 0s - loss: 0.2501 - accuracy: 0.8884\n",
            "Epoch 39: val_accuracy improved from 0.90452 to 0.90721, saving model to Pneumonia_Resnet50.h5\n",
            "163/163 [==============================] - 145s 891ms/step - loss: 0.2501 - accuracy: 0.8884 - val_loss: 0.2292 - val_accuracy: 0.9072\n",
            "Epoch 40/50\n",
            "163/163 [==============================] - ETA: 0s - loss: 0.2606 - accuracy: 0.8844\n",
            "Epoch 40: val_accuracy improved from 0.90721 to 0.90855, saving model to Pneumonia_Resnet50.h5\n",
            "163/163 [==============================] - 145s 894ms/step - loss: 0.2606 - accuracy: 0.8844 - val_loss: 0.2298 - val_accuracy: 0.9086\n",
            "Epoch 41/50\n",
            "163/163 [==============================] - ETA: 0s - loss: 0.2481 - accuracy: 0.8944\n",
            "Epoch 41: val_accuracy improved from 0.90855 to 0.90989, saving model to Pneumonia_Resnet50.h5\n",
            "163/163 [==============================] - 145s 891ms/step - loss: 0.2481 - accuracy: 0.8944 - val_loss: 0.2243 - val_accuracy: 0.9099\n",
            "Epoch 42/50\n",
            "163/163 [==============================] - ETA: 0s - loss: 0.2454 - accuracy: 0.8955\n",
            "Epoch 42: val_accuracy did not improve from 0.90989\n",
            "163/163 [==============================] - 144s 887ms/step - loss: 0.2454 - accuracy: 0.8955 - val_loss: 0.2300 - val_accuracy: 0.9084\n",
            "Epoch 43/50\n",
            "163/163 [==============================] - ETA: 0s - loss: 0.2485 - accuracy: 0.8930\n",
            "Epoch 43: val_accuracy did not improve from 0.90989\n",
            "163/163 [==============================] - 144s 885ms/step - loss: 0.2485 - accuracy: 0.8930 - val_loss: 0.2307 - val_accuracy: 0.9064\n",
            "Epoch 44/50\n",
            "163/163 [==============================] - ETA: 0s - loss: 0.2561 - accuracy: 0.8919\n",
            "Epoch 44: val_accuracy did not improve from 0.90989\n",
            "163/163 [==============================] - 144s 885ms/step - loss: 0.2561 - accuracy: 0.8919 - val_loss: 0.2470 - val_accuracy: 0.8984\n",
            "Epoch 45/50\n",
            "163/163 [==============================] - ETA: 0s - loss: 0.2490 - accuracy: 0.8903\n",
            "Epoch 45: val_accuracy did not improve from 0.90989\n",
            "163/163 [==============================] - 143s 878ms/step - loss: 0.2490 - accuracy: 0.8903 - val_loss: 0.2386 - val_accuracy: 0.9016\n",
            "Epoch 46/50\n",
            "163/163 [==============================] - ETA: 0s - loss: 0.2477 - accuracy: 0.8949\n",
            "Epoch 46: val_accuracy improved from 0.90989 to 0.91143, saving model to Pneumonia_Resnet50.h5\n",
            "163/163 [==============================] - 144s 886ms/step - loss: 0.2477 - accuracy: 0.8949 - val_loss: 0.2126 - val_accuracy: 0.9114\n",
            "Epoch 47/50\n",
            "163/163 [==============================] - ETA: 0s - loss: 0.2363 - accuracy: 0.9011\n",
            "Epoch 47: val_accuracy did not improve from 0.91143\n",
            "163/163 [==============================] - 143s 881ms/step - loss: 0.2363 - accuracy: 0.9011 - val_loss: 0.2118 - val_accuracy: 0.9105\n",
            "Epoch 48/50\n",
            "163/163 [==============================] - ETA: 0s - loss: 0.2393 - accuracy: 0.8988\n",
            "Epoch 48: val_accuracy improved from 0.91143 to 0.91392, saving model to Pneumonia_Resnet50.h5\n",
            "163/163 [==============================] - 144s 886ms/step - loss: 0.2393 - accuracy: 0.8988 - val_loss: 0.2129 - val_accuracy: 0.9139\n",
            "Epoch 49/50\n",
            "163/163 [==============================] - ETA: 0s - loss: 0.2397 - accuracy: 0.8990\n",
            "Epoch 49: val_accuracy did not improve from 0.91392\n",
            "163/163 [==============================] - 143s 880ms/step - loss: 0.2397 - accuracy: 0.8990 - val_loss: 0.2220 - val_accuracy: 0.9097\n",
            "Epoch 50/50\n",
            "163/163 [==============================] - ETA: 0s - loss: 0.2380 - accuracy: 0.9007\n",
            "Epoch 50: val_accuracy did not improve from 0.91392\n",
            "163/163 [==============================] - 142s 876ms/step - loss: 0.2380 - accuracy: 0.9007 - val_loss: 0.2425 - val_accuracy: 0.9007\n"
          ]
        }
      ],
      "source": [
        "# Train the model\n",
        "history = model.fit(train_set, validation_data=val_set, epochs=50, callbacks=[checkpoint, early])"
      ]
    },
    {
      "cell_type": "code",
      "execution_count": 14,
      "metadata": {
        "colab": {
          "base_uri": "https://localhost:8080/"
        },
        "id": "ggA8NdNVAdtE",
        "outputId": "5ac4c567-1973-403b-d603-255309a31da3"
      },
      "outputs": [
        {
          "name": "stdout",
          "output_type": "stream",
          "text": [
            "163/163 [==============================] - 56s 343ms/step - loss: 0.2425 - accuracy: 0.9007\n",
            "Accuracy of the model is -  90.06901979446411 %\n"
          ]
        }
      ],
      "source": [
        "# Accuracy print\n",
        "print('Accuracy of the model is - ' , model.evaluate(val_set)[1]*100 , '%')"
      ]
    },
    {
      "cell_type": "code",
      "execution_count": 11,
      "metadata": {
        "colab": {
          "base_uri": "https://localhost:8080/",
          "height": 295
        },
        "id": "bqd6BUdrjh1o",
        "outputId": "34c749fd-a129-42b6-abb9-6dce6789cc41"
      },
      "outputs": [
        {
          "data": {
            "image/png": "[encoded data removed]",
            "text/plain": [
              "<Figure size 432x288 with 1 Axes>"
            ]
          },
          "metadata": {
            "needs_background": "light"
          },
          "output_type": "display_data"
        }
      ],
      "source": [
        "# Plot the training and validation accuracy\n",
        "plt.plot(history.history['accuracy'])\n",
        "plt.plot(history.history['val_accuracy'])\n",
        "plt.title('Model Accuracy')\n",
        "plt.ylabel('Accuracy')\n",
        "plt.xlabel('Epoch')\n",
        "plt.legend(['Train', 'Val'], loc='upper left')\n",
        "plt.show()\n"
      ]
    },
    {
      "cell_type": "code",
      "execution_count": 12,
      "metadata": {
        "colab": {
          "base_uri": "https://localhost:8080/",
          "height": 298
        },
        "id": "w0Is7drpjh1q",
        "outputId": "c0f900a4-9457-4499-bcf0-2b7fddd8be46"
      },
      "outputs": [
        {
          "data": {
            "text/plain": [
              "Text(0, 0.5, 'Loss')"
            ]
          },
          "execution_count": 12,
          "metadata": {},
          "output_type": "execute_result"
        },
        {
          "data": {
            "image/png": "[encoded data removed]",
            "text/plain": [
              "<Figure size 432x288 with 1 Axes>"
            ]
          },
          "metadata": {
            "needs_background": "light"
          },
          "output_type": "display_data"
        }
      ],
      "source": [
        "# Plot the training and validation loss\n",
        "plt.plot(history.history['loss'])\n",
        "plt.plot(history.history['val_loss'])\n",
        "plt.title('Model Loss')\n",
        "plt.ylabel('Loss')"
      ]
    },
    {
      "cell_type": "code",
      "execution_count": 13,
      "metadata": {
        "id": "j6SboQtbjh1q"
      },
      "outputs": [],
      "source": [
        "# Save the model\n",
        "model.save('Pneumonia_Resnet50.h5')"
      ]
    }
  ],
  "metadata": {
    "accelerator": "GPU",
    "colab": {
      "provenance": []
    },
    "kernelspec": {
      "display_name": "Python 3.10.7 64-bit",
      "language": "python",
      "name": "python3"
    },
    "language_info": {
      "codemirror_mode": {
        "name": "ipython",
        "version": 3
      },
      "file_extension": ".py",
      "mimetype": "text/x-python",
      "name": "python",
      "nbconvert_exporter": "python",
      "pygments_lexer": "ipython3",
      "version": "3.10.7 (tags/v3.10.7:6cc6b13, Sep  5 2022, 14:08:36) [MSC v.1933 64 bit (AMD64)]"
    },
    "orig_nbformat": 4,
    "vscode": {
      "interpreter": {
        "hash": "28328718739f0b0dcd54909b78dca6ccaf0c916f6b7d08f276d2b5deebde5e28"
      }
    }
  },
  "nbformat": 4,
  "nbformat_minor": 0
}
