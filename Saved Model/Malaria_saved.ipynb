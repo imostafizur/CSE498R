{
 "cells": [
  {
   "cell_type": "code",
   "execution_count": 1,
   "metadata": {},
   "outputs": [],
   "source": [
    "import matplotlib.pyplot as plt\n",
    "import numpy as np\n",
    "import os\n",
    "import tensorflow as tf"
   ]
  },
  {
   "cell_type": "code",
   "execution_count": 2,
   "metadata": {},
   "outputs": [],
   "source": [
    "from tensorflow.keras.models import load_model\n",
    "model = load_model('malaria_Resnet50.h5')"
   ]
  },
  {
   "cell_type": "code",
   "execution_count": 24,
   "metadata": {},
   "outputs": [
    {
     "name": "stdout",
     "output_type": "stream",
     "text": [
      "1/1 [==============================] - 0s 290ms/step\n",
      "[[0.3488013]]\n"
     ]
    }
   ],
   "source": [
    "# Reshape to 256, 256, 3 \n",
    "from tensorflow.keras.preprocessing import image\n",
    "img = image.load_img('cell_images/Parasitized/C100P61ThinF_IMG_20150918_144104_cell_162.png', target_size=(256, 256))\n",
    "img = image.img_to_array(img)\n",
    "img = np.expand_dims(img, axis=0)\n",
    "img = img/255\n",
    "\n",
    "# Predict\n",
    "pred = model.predict(img)\n",
    "print(pred)\n"
   ]
  },
  {
   "cell_type": "code",
   "execution_count": 25,
   "metadata": {},
   "outputs": [
    {
     "name": "stdout",
     "output_type": "stream",
     "text": [
      "Parasitized\n"
     ]
    }
   ],
   "source": [
    "# 0.3488013 for Parasitized so less than 0.5 so it is Uninfected\n",
    "if pred >= 0.5:\n",
    "    print(\"Uninfected\")\n",
    "else:\n",
    "    print(\"Parasitized\")\n"
   ]
  }
 ],
 "metadata": {
  "kernelspec": {
   "display_name": "Python 3.10.7 64-bit",
   "language": "python",
   "name": "python3"
  },
  "language_info": {
   "codemirror_mode": {
    "name": "ipython",
    "version": 3
   },
   "file_extension": ".py",
   "mimetype": "text/x-python",
   "name": "python",
   "nbconvert_exporter": "python",
   "pygments_lexer": "ipython3",
   "version": "3.10.7"
  },
  "orig_nbformat": 4,
  "vscode": {
   "interpreter": {
    "hash": "28328718739f0b0dcd54909b78dca6ccaf0c916f6b7d08f276d2b5deebde5e28"
   }
  }
 },
 "nbformat": 4,
 "nbformat_minor": 2
}
