{
  "cells": [
    {
      "cell_type": "code",
      "source": [
        "!git clone https://github.com/imostafizur/CSE498R.git"
      ],
      "metadata": {
        "colab": {
          "base_uri": "https://localhost:8080/"
        },
        "id": "2M5iS_9KEyjE",
        "outputId": "3ea12aa3-e070-46d5-a39b-a2e1fcda5023"
      },
      "execution_count": 7,
      "outputs": [
        {
          "output_type": "stream",
          "name": "stdout",
          "text": [
            "fatal: destination path 'CSE498R' already exists and is not an empty directory.\n"
          ]
        }
      ]
    },
    {
      "cell_type": "markdown",
      "metadata": {
        "id": "zvrizQjzEw5x"
      },
      "source": [
        "## Pneumonia Detection with EfficientNet-B7"
      ]
    },
    {
      "cell_type": "code",
      "execution_count": 8,
      "metadata": {
        "id": "7IJwD8J9Ew55"
      },
      "outputs": [],
      "source": [
        "#EfficientNet-B7\n",
        "import os\n",
        "import numpy as np\n",
        "import pandas as pd\n",
        "import matplotlib.pyplot as plt\n",
        "import seaborn as sns\n",
        "import tensorflow as tf\n",
        "from tensorflow.keras.preprocessing.image import ImageDataGenerator\n",
        "from tensorflow.keras.applications import EfficientNetB7\n",
        "from tensorflow.keras.models import Sequential\n",
        "from tensorflow.keras.layers import Dense, Dropout, Flatten, GlobalAveragePooling2D\n",
        "from tensorflow.keras.optimizers import Adam\n",
        "from tensorflow.keras.callbacks import EarlyStopping, ReduceLROnPlateau, ModelCheckpoint\n"
      ]
    },
    {
      "cell_type": "code",
      "execution_count": 9,
      "metadata": {
        "id": "nPyLmPwdEw58"
      },
      "outputs": [],
      "source": [
        "image = ('Pneumonia')"
      ]
    },
    {
      "cell_type": "code",
      "execution_count": 10,
      "metadata": {
        "colab": {
          "base_uri": "https://localhost:8080/"
        },
        "id": "7jPvQ4NlEw59",
        "outputId": "275acaaa-b4dc-4736-d02d-ea274c3fde62"
      },
      "outputs": [
        {
          "output_type": "stream",
          "name": "stdout",
          "text": [
            "Total number of images in Pneumonia folder: 2\n",
            "Total number of images in Normal folder: 1342\n",
            "Total number of images in Pneumonia folder: 3876\n"
          ]
        }
      ],
      "source": [
        "# Count the number of images in Pneumonia and Normal folders\n",
        "print('Total number of images in Pneumonia folder:', len(os.listdir('Pneumonia')))\n",
        "print('Total number of images in Normal folder:',\n",
        "      len(os.listdir('Pneumonia/NORMAL')))\n",
        "print('Total number of images in Pneumonia folder:',\n",
        "      len(os.listdir('Pneumonia/PNEUMONIA')))\n"
      ]
    },
    {
      "cell_type": "code",
      "execution_count": 11,
      "metadata": {
        "id": "RphpvMM-Ew6A"
      },
      "outputs": [],
      "source": [
        "# EfficientNet-B7\n",
        "IMG_SIZE = 600\n",
        "BATCH_SIZE = 32\n",
        "\n",
        "train_datagen = ImageDataGenerator(rescale=1./255,\n",
        "                                      rotation_range=20,\n",
        "                                        width_shift_range=0.2,\n",
        "                                        height_shift_range=0.2,\n",
        "                                        shear_range=0.2,\n",
        "                                        zoom_range=0.2,\n",
        "                                        horizontal_flip=True,\n",
        "                                        fill_mode='nearest',\n",
        "                                        validation_split=0.2)"
      ]
    },
    {
      "cell_type": "code",
      "execution_count": 12,
      "metadata": {
        "colab": {
          "base_uri": "https://localhost:8080/"
        },
        "id": "TH7n7n9nEw6B",
        "outputId": "e041ad3d-7f92-4b5e-8f89-7badae9f299b"
      },
      "outputs": [
        {
          "output_type": "stream",
          "name": "stdout",
          "text": [
            "Found 4173 images belonging to 2 classes.\n"
          ]
        }
      ],
      "source": [
        "# Training data\n",
        "train_generator = train_datagen.flow_from_directory(\n",
        "    'Pneumonia',\n",
        "    target_size=(IMG_SIZE, IMG_SIZE),\n",
        "    batch_size=BATCH_SIZE,\n",
        "    class_mode='binary',\n",
        "    subset='training')"
      ]
    },
    {
      "cell_type": "code",
      "execution_count": 13,
      "metadata": {
        "colab": {
          "base_uri": "https://localhost:8080/"
        },
        "id": "uD5Dyw5SEw6B",
        "outputId": "4f74fb95-7c8d-4227-8528-d7dcc8af905e"
      },
      "outputs": [
        {
          "output_type": "stream",
          "name": "stdout",
          "text": [
            "Found 1043 images belonging to 2 classes.\n"
          ]
        }
      ],
      "source": [
        "# Validation data\n",
        "validation_generator = train_datagen.flow_from_directory(\n",
        "    'Pneumonia',\n",
        "    target_size=(IMG_SIZE, IMG_SIZE),\n",
        "    batch_size=BATCH_SIZE,\n",
        "    class_mode='binary',\n",
        "    subset='validation')"
      ]
    },
    {
      "cell_type": "code",
      "execution_count": 14,
      "metadata": {
        "colab": {
          "base_uri": "https://localhost:8080/"
        },
        "id": "3nVutYyXEw6D",
        "outputId": "4a952b60-0c7b-40a0-f803-0b793a30f4be"
      },
      "outputs": [
        {
          "output_type": "stream",
          "name": "stdout",
          "text": [
            "Downloading data from https://storage.googleapis.com/keras-applications/efficientnetb7_notop.h5\n",
            "258080768/258076736 [==============================] - 3s 0us/step\n",
            "258088960/258076736 [==============================] - 3s 0us/step\n"
          ]
        }
      ],
      "source": [
        "# Create the base model from the pre-trained model EfficientNetB7\n",
        "base_model = EfficientNetB7(input_shape=(IMG_SIZE, IMG_SIZE, 3),\n",
        "                                 include_top=False,\n",
        "                                    weights='imagenet')"
      ]
    },
    {
      "cell_type": "code",
      "execution_count": 15,
      "metadata": {
        "id": "wiPx5p4dEw6D"
      },
      "outputs": [],
      "source": [
        "# Freeze the base model\n",
        "base_model.trainable = False\n"
      ]
    },
    {
      "cell_type": "code",
      "execution_count": 16,
      "metadata": {
        "id": "8RlOusc3Ew6E"
      },
      "outputs": [],
      "source": [
        "# Create new model on top\n",
        "model = Sequential([\n",
        "    base_model,\n",
        "    GlobalAveragePooling2D(),\n",
        "    Dense(1, activation='sigmoid')\n",
        "])"
      ]
    },
    {
      "cell_type": "code",
      "execution_count": 17,
      "metadata": {
        "colab": {
          "base_uri": "https://localhost:8080/"
        },
        "id": "r31NI-4ZEw6G",
        "outputId": "5735399d-d247-4a19-ae36-ed7b1b1c4999"
      },
      "outputs": [
        {
          "output_type": "stream",
          "name": "stderr",
          "text": [
            "/usr/local/lib/python3.7/dist-packages/keras/optimizer_v2/adam.py:105: UserWarning: The `lr` argument is deprecated, use `learning_rate` instead.\n",
            "  super(Adam, self).__init__(name, **kwargs)\n"
          ]
        }
      ],
      "source": [
        "# Compile the model\n",
        "model.compile(optimizer=Adam(lr=0.0001),\n",
        "                loss='binary_crossentropy',\n",
        "                metrics=['accuracy'])"
      ]
    },
    {
      "cell_type": "code",
      "execution_count": 18,
      "metadata": {
        "colab": {
          "base_uri": "https://localhost:8080/"
        },
        "id": "UsQt5coEEw6H",
        "outputId": "fc26dbec-77e4-4795-8467-cbd4548db915"
      },
      "outputs": [
        {
          "output_type": "stream",
          "name": "stdout",
          "text": [
            "Model: \"sequential\"\n",
            "_________________________________________________________________\n",
            " Layer (type)                Output Shape              Param #   \n",
            "=================================================================\n",
            " efficientnetb7 (Functional)  (None, 19, 19, 2560)     64097687  \n",
            "                                                                 \n",
            " global_average_pooling2d (G  (None, 2560)             0         \n",
            " lobalAveragePooling2D)                                          \n",
            "                                                                 \n",
            " dense (Dense)               (None, 1)                 2561      \n",
            "                                                                 \n",
            "=================================================================\n",
            "Total params: 64,100,248\n",
            "Trainable params: 2,561\n",
            "Non-trainable params: 64,097,687\n",
            "_________________________________________________________________\n"
          ]
        }
      ],
      "source": [
        "# Model summary\n",
        "model.summary()"
      ]
    },
    {
      "cell_type": "code",
      "execution_count": 19,
      "metadata": {
        "id": "HItUAoyYEw6I"
      },
      "outputs": [],
      "source": [
        "# Callbacks\n",
        "earlystop = EarlyStopping(monitor='val_loss', patience=5)\n",
        "learning_rate_reduction = ReduceLROnPlateau(monitor='val_accuracy',\n",
        "                                            patience=2,     \n",
        "                                            verbose=1,\n",
        "                                            factor=0.5,\n",
        "                                            min_lr=0.00001)"
      ]
    },
    {
      "cell_type": "code",
      "execution_count": 20,
      "metadata": {
        "colab": {
          "base_uri": "https://localhost:8080/"
        },
        "id": "LEn1NEBeEw6J",
        "outputId": "baccf869-dbc7-4958-ac92-7fac70b67b89"
      },
      "outputs": [
        {
          "output_type": "stream",
          "name": "stdout",
          "text": [
            "Epoch 1/20\n",
            "131/131 [==============================] - 588s 4s/step - loss: 0.6091 - accuracy: 0.6798 - val_loss: 0.5701 - val_accuracy: 0.7430 - lr: 1.0000e-04\n",
            "Epoch 2/20\n",
            "131/131 [==============================] - 539s 4s/step - loss: 0.5721 - accuracy: 0.7429 - val_loss: 0.5702 - val_accuracy: 0.7430 - lr: 1.0000e-04\n",
            "Epoch 3/20\n",
            "131/131 [==============================] - ETA: 0s - loss: 0.5706 - accuracy: 0.7429\n",
            "Epoch 3: ReduceLROnPlateau reducing learning rate to 4.999999873689376e-05.\n",
            "131/131 [==============================] - 537s 4s/step - loss: 0.5706 - accuracy: 0.7429 - val_loss: 0.5708 - val_accuracy: 0.7430 - lr: 1.0000e-04\n",
            "Epoch 4/20\n",
            "131/131 [==============================] - 540s 4s/step - loss: 0.5716 - accuracy: 0.7429 - val_loss: 0.5699 - val_accuracy: 0.7430 - lr: 5.0000e-05\n",
            "Epoch 5/20\n",
            "131/131 [==============================] - ETA: 0s - loss: 0.5704 - accuracy: 0.7429\n",
            "Epoch 5: ReduceLROnPlateau reducing learning rate to 2.499999936844688e-05.\n",
            "131/131 [==============================] - 548s 4s/step - loss: 0.5704 - accuracy: 0.7429 - val_loss: 0.5701 - val_accuracy: 0.7430 - lr: 5.0000e-05\n",
            "Epoch 6/20\n",
            "131/131 [==============================] - 546s 4s/step - loss: 0.5709 - accuracy: 0.7429 - val_loss: 0.5699 - val_accuracy: 0.7430 - lr: 2.5000e-05\n",
            "Epoch 7/20\n",
            "131/131 [==============================] - ETA: 0s - loss: 0.5710 - accuracy: 0.7429\n",
            "Epoch 7: ReduceLROnPlateau reducing learning rate to 1.249999968422344e-05.\n",
            "131/131 [==============================] - 540s 4s/step - loss: 0.5710 - accuracy: 0.7429 - val_loss: 0.5699 - val_accuracy: 0.7430 - lr: 2.5000e-05\n",
            "Epoch 8/20\n",
            "131/131 [==============================] - 541s 4s/step - loss: 0.5707 - accuracy: 0.7429 - val_loss: 0.5699 - val_accuracy: 0.7430 - lr: 1.2500e-05\n",
            "Epoch 9/20\n",
            "131/131 [==============================] - ETA: 0s - loss: 0.5700 - accuracy: 0.7429\n",
            "Epoch 9: ReduceLROnPlateau reducing learning rate to 1e-05.\n",
            "131/131 [==============================] - 540s 4s/step - loss: 0.5700 - accuracy: 0.7429 - val_loss: 0.5699 - val_accuracy: 0.7430 - lr: 1.2500e-05\n",
            "Epoch 10/20\n",
            "131/131 [==============================] - 540s 4s/step - loss: 0.5706 - accuracy: 0.7429 - val_loss: 0.5699 - val_accuracy: 0.7430 - lr: 1.0000e-05\n",
            "Epoch 11/20\n",
            "131/131 [==============================] - 540s 4s/step - loss: 0.5705 - accuracy: 0.7429 - val_loss: 0.5699 - val_accuracy: 0.7430 - lr: 1.0000e-05\n",
            "Epoch 12/20\n",
            "131/131 [==============================] - 540s 4s/step - loss: 0.5714 - accuracy: 0.7429 - val_loss: 0.5699 - val_accuracy: 0.7430 - lr: 1.0000e-05\n",
            "Epoch 13/20\n",
            "131/131 [==============================] - 540s 4s/step - loss: 0.5701 - accuracy: 0.7429 - val_loss: 0.5699 - val_accuracy: 0.7430 - lr: 1.0000e-05\n"
          ]
        }
      ],
      "source": [
        "# Train the model\n",
        "history = model.fit(train_generator,\n",
        "                    epochs=20,\n",
        "                    validation_data=validation_generator,\n",
        "                    callbacks=[earlystop, learning_rate_reduction])"
      ]
    },
    {
      "cell_type": "code",
      "execution_count": 21,
      "metadata": {
        "colab": {
          "base_uri": "https://localhost:8080/",
          "height": 499
        },
        "id": "IjrDaGfdEw6K",
        "outputId": "0bcec2a5-eb8c-4ca3-eb06-b4326c2c12b5"
      },
      "outputs": [
        {
          "output_type": "display_data",
          "data": {
            "text/plain": [
              "<Figure size 576x576 with 2 Axes>"
            ],
            "image/png": "[encoded data removed]"
          },
          "metadata": {
            "needs_background": "light"
          }
        }
      ],
      "source": [
        "# Plot the training and validation accuracy and loss at each epoch\n",
        "acc = history.history['accuracy']\n",
        "val_acc = history.history['val_accuracy']\n",
        "loss = history.history['loss']\n",
        "val_loss = history.history['val_loss']\n",
        "epochs_range = range(len(acc))\n",
        "plt.figure(figsize=(8, 8))\n",
        "plt.subplot(1, 2, 1)\n",
        "plt.plot(epochs_range, acc, label='Training Accuracy')\n",
        "plt.plot(epochs_range, val_acc, label='Validation Accuracy')\n",
        "plt.legend(loc='lower right')\n",
        "plt.title('Training and Validation Accuracy')\n",
        "plt.subplot(1, 2, 2)\n",
        "plt.plot(epochs_range, loss, label='Training Loss')\n",
        "plt.plot(epochs_range, val_loss, label='Validation Loss')\n",
        "plt.legend(loc='upper right')\n",
        "plt.title('Training and Validation Loss')\n",
        "plt.show()"
      ]
    },
    {
      "cell_type": "code",
      "execution_count": 22,
      "metadata": {
        "id": "VYLHhphhEw6K"
      },
      "outputs": [],
      "source": [
        "# Save the model\n",
        "model.save('Pneumonia_Efficientnet-B7.h5')"
      ]
    }
  ],
  "metadata": {
    "kernelspec": {
      "display_name": "Python 3.10.7 64-bit",
      "language": "python",
      "name": "python3"
    },
    "language_info": {
      "codemirror_mode": {
        "name": "ipython",
        "version": 3
      },
      "file_extension": ".py",
      "mimetype": "text/x-python",
      "name": "python",
      "nbconvert_exporter": "python",
      "pygments_lexer": "ipython3",
      "version": "3.10.7"
    },
    "orig_nbformat": 4,
    "vscode": {
      "interpreter": {
        "hash": "28328718739f0b0dcd54909b78dca6ccaf0c916f6b7d08f276d2b5deebde5e28"
      }
    },
    "colab": {
      "provenance": []
    },
    "accelerator": "GPU"
  },
  "nbformat": 4,
  "nbformat_minor": 0
}