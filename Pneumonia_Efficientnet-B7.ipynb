{
  "cells": [
    {
      "cell_type": "code",
      "source": [
        "!git clone https://github.com/imostafizur/CSE498R.git"
      ],
      "metadata": {
        "id": "2M5iS_9KEyjE",
        "outputId": "5e65399f-2268-4e6d-9c21-d9d9cab505ff",
        "colab": {
          "base_uri": "https://localhost:8080/"
        }
      },
      "execution_count": 10,
      "outputs": [
        {
          "output_type": "stream",
          "name": "stdout",
          "text": [
            "fatal: destination path 'CSE498R' already exists and is not an empty directory.\n"
          ]
        }
      ]
    },
    {
      "cell_type": "markdown",
      "metadata": {
        "id": "zvrizQjzEw5x"
      },
      "source": [
        "## Pneumonia Detection with EfficientNet-B7"
      ]
    },
    {
      "cell_type": "code",
      "execution_count": 11,
      "metadata": {
        "id": "7IJwD8J9Ew55"
      },
      "outputs": [],
      "source": [
        "#EfficientNet-B7\n",
        "import os\n",
        "import numpy as np\n",
        "import pandas as pd\n",
        "import matplotlib.pyplot as plt\n",
        "import seaborn as sns\n",
        "import tensorflow as tf\n",
        "from tensorflow.keras.preprocessing.image import ImageDataGenerator\n",
        "from tensorflow.keras.applications import EfficientNetB7\n",
        "from tensorflow.keras.models import Sequential\n",
        "from tensorflow.keras.layers import Dense, Dropout, Flatten, GlobalAveragePooling2D\n",
        "from tensorflow.keras.optimizers import Adam\n",
        "from tensorflow.keras.callbacks import EarlyStopping, ReduceLROnPlateau, ModelCheckpoint\n"
      ]
    },
    {
      "cell_type": "code",
      "execution_count": 12,
      "metadata": {
        "id": "nPyLmPwdEw58"
      },
      "outputs": [],
      "source": [
        "image = ('Pneumonia')"
      ]
    },
    {
      "cell_type": "code",
      "execution_count": 13,
      "metadata": {
        "id": "7jPvQ4NlEw59",
        "outputId": "34defade-2081-49fc-8df8-ca81186f39a8",
        "colab": {
          "base_uri": "https://localhost:8080/"
        }
      },
      "outputs": [
        {
          "output_type": "stream",
          "name": "stdout",
          "text": [
            "Total number of images in Pneumonia folder: 2\n",
            "Total number of images in Normal folder: 1342\n",
            "Total number of images in Pneumonia folder: 3876\n"
          ]
        }
      ],
      "source": [
        "# Count the number of images in Pneumonia and Normal folders\n",
        "print('Total number of images in Pneumonia folder:', len(os.listdir('Pneumonia')))\n",
        "print('Total number of images in Normal folder:',\n",
        "      len(os.listdir('Pneumonia/NORMAL')))\n",
        "print('Total number of images in Pneumonia folder:',\n",
        "      len(os.listdir('Pneumonia/PNEUMONIA')))\n"
      ]
    },
    {
      "cell_type": "code",
      "execution_count": 14,
      "metadata": {
        "id": "RphpvMM-Ew6A"
      },
      "outputs": [],
      "source": [
        "# EfficientNet-B7\n",
        "IMG_SIZE = 600\n",
        "BATCH_SIZE = 32\n",
        "\n",
        "train_datagen = ImageDataGenerator(rescale=1./255,\n",
        "                                      rotation_range=20,\n",
        "                                        width_shift_range=0.2,\n",
        "                                        height_shift_range=0.2,\n",
        "                                        shear_range=0.2,\n",
        "                                        zoom_range=0.2,\n",
        "                                        horizontal_flip=True,\n",
        "                                        fill_mode='nearest',\n",
        "                                        validation_split=0.2)"
      ]
    },
    {
      "cell_type": "code",
      "execution_count": 15,
      "metadata": {
        "id": "TH7n7n9nEw6B",
        "outputId": "106b722c-2883-445c-b86b-86ff4ad642ee",
        "colab": {
          "base_uri": "https://localhost:8080/"
        }
      },
      "outputs": [
        {
          "output_type": "stream",
          "name": "stdout",
          "text": [
            "Found 4173 images belonging to 2 classes.\n"
          ]
        }
      ],
      "source": [
        "# Training data\n",
        "train_generator = train_datagen.flow_from_directory(\n",
        "    'Pneumonia',\n",
        "    target_size=(IMG_SIZE, IMG_SIZE),\n",
        "    batch_size=BATCH_SIZE,\n",
        "    class_mode='binary',\n",
        "    subset='training')"
      ]
    },
    {
      "cell_type": "code",
      "execution_count": 16,
      "metadata": {
        "id": "uD5Dyw5SEw6B",
        "outputId": "755eeb91-4e7e-43d7-8481-80567c5c348f",
        "colab": {
          "base_uri": "https://localhost:8080/"
        }
      },
      "outputs": [
        {
          "output_type": "stream",
          "name": "stdout",
          "text": [
            "Found 1043 images belonging to 2 classes.\n"
          ]
        }
      ],
      "source": [
        "# Validation data\n",
        "validation_generator = train_datagen.flow_from_directory(\n",
        "    'Pneumonia',\n",
        "    target_size=(IMG_SIZE, IMG_SIZE),\n",
        "    batch_size=BATCH_SIZE,\n",
        "    class_mode='binary',\n",
        "    subset='validation')"
      ]
    },
    {
      "cell_type": "code",
      "execution_count": 17,
      "metadata": {
        "id": "3nVutYyXEw6D",
        "outputId": "d8692de1-fb38-494d-bc60-191ab81aa65d",
        "colab": {
          "base_uri": "https://localhost:8080/"
        }
      },
      "outputs": [
        {
          "output_type": "stream",
          "name": "stdout",
          "text": [
            "Downloading data from https://storage.googleapis.com/keras-applications/efficientnetb7_notop.h5\n",
            "258080768/258076736 [==============================] - 2s 0us/step\n",
            "258088960/258076736 [==============================] - 2s 0us/step\n"
          ]
        }
      ],
      "source": [
        "# Create the base model from the pre-trained model EfficientNetB7\n",
        "base_model = EfficientNetB7(input_shape=(IMG_SIZE, IMG_SIZE, 3),\n",
        "                                 include_top=False,\n",
        "                                    weights='imagenet')"
      ]
    },
    {
      "cell_type": "code",
      "execution_count": 18,
      "metadata": {
        "id": "wiPx5p4dEw6D"
      },
      "outputs": [],
      "source": [
        "# Freeze the base model\n",
        "base_model.trainable = False\n"
      ]
    },
    {
      "cell_type": "code",
      "execution_count": 19,
      "metadata": {
        "id": "8RlOusc3Ew6E"
      },
      "outputs": [],
      "source": [
        "# Create new model on top\n",
        "model = Sequential([\n",
        "    base_model,\n",
        "    GlobalAveragePooling2D(),\n",
        "    Dense(1, activation='sigmoid')\n",
        "])"
      ]
    },
    {
      "cell_type": "code",
      "execution_count": 20,
      "metadata": {
        "id": "r31NI-4ZEw6G",
        "outputId": "36fda7c6-c556-47d5-aff3-697a991402f8",
        "colab": {
          "base_uri": "https://localhost:8080/"
        }
      },
      "outputs": [
        {
          "output_type": "stream",
          "name": "stderr",
          "text": [
            "/usr/local/lib/python3.7/dist-packages/keras/optimizer_v2/adam.py:105: UserWarning: The `lr` argument is deprecated, use `learning_rate` instead.\n",
            "  super(Adam, self).__init__(name, **kwargs)\n"
          ]
        }
      ],
      "source": [
        "# Compile the model\n",
        "model.compile(optimizer=Adam(lr=0.0001),\n",
        "                loss='binary_crossentropy',\n",
        "                metrics=['accuracy'])"
      ]
    },
    {
      "cell_type": "code",
      "execution_count": 21,
      "metadata": {
        "id": "UsQt5coEEw6H",
        "outputId": "c42185f4-0ac4-4f7f-f671-9d4544efb588",
        "colab": {
          "base_uri": "https://localhost:8080/"
        }
      },
      "outputs": [
        {
          "output_type": "stream",
          "name": "stdout",
          "text": [
            "Model: \"sequential\"\n",
            "_________________________________________________________________\n",
            " Layer (type)                Output Shape              Param #   \n",
            "=================================================================\n",
            " efficientnetb7 (Functional)  (None, 19, 19, 2560)     64097687  \n",
            "                                                                 \n",
            " global_average_pooling2d (G  (None, 2560)             0         \n",
            " lobalAveragePooling2D)                                          \n",
            "                                                                 \n",
            " dense (Dense)               (None, 1)                 2561      \n",
            "                                                                 \n",
            "=================================================================\n",
            "Total params: 64,100,248\n",
            "Trainable params: 2,561\n",
            "Non-trainable params: 64,097,687\n",
            "_________________________________________________________________\n"
          ]
        }
      ],
      "source": [
        "# Model summary\n",
        "model.summary()"
      ]
    },
    {
      "cell_type": "code",
      "execution_count": 22,
      "metadata": {
        "id": "HItUAoyYEw6I"
      },
      "outputs": [],
      "source": [
        "# Callbacks\n",
        "earlystop = EarlyStopping(monitor='val_loss', patience=5)\n",
        "learning_rate_reduction = ReduceLROnPlateau(monitor='val_accuracy',\n",
        "                                            patience=2,     \n",
        "                                            verbose=1,\n",
        "                                            factor=0.5,\n",
        "                                            min_lr=0.00001)"
      ]
    },
    {
      "cell_type": "code",
      "execution_count": null,
      "metadata": {
        "id": "LEn1NEBeEw6J",
        "outputId": "bd488ace-8410-4257-b55c-7a3c20f739f2",
        "colab": {
          "base_uri": "https://localhost:8080/"
        }
      },
      "outputs": [
        {
          "output_type": "stream",
          "name": "stdout",
          "text": [
            "Epoch 1/20\n",
            "131/131 [==============================] - 619s 4s/step - loss: 0.5896 - accuracy: 0.7182 - val_loss: 0.5708 - val_accuracy: 0.7430 - lr: 1.0000e-04\n",
            "Epoch 2/20\n",
            "131/131 [==============================] - 574s 4s/step - loss: 0.5722 - accuracy: 0.7429 - val_loss: 0.5699 - val_accuracy: 0.7430 - lr: 1.0000e-04\n",
            "Epoch 3/20\n",
            " 64/131 [=============>................] - ETA: 3:51 - loss: 0.5528 - accuracy: 0.7600"
          ]
        }
      ],
      "source": [
        "# Train the model\n",
        "history = model.fit(train_generator,\n",
        "                    epochs=20,\n",
        "                    validation_data=validation_generator,\n",
        "                    callbacks=[earlystop, learning_rate_reduction])"
      ]
    },
    {
      "cell_type": "code",
      "execution_count": null,
      "metadata": {
        "id": "IjrDaGfdEw6K"
      },
      "outputs": [],
      "source": [
        "# Plot the training and validation accuracy and loss at each epoch\n",
        "acc = history.history['accuracy']\n",
        "val_acc = history.history['val_accuracy']\n",
        "loss = history.history['loss']\n",
        "val_loss = history.history['val_loss']\n",
        "epochs_range = range(len(acc))\n",
        "plt.figure(figsize=(8, 8))\n",
        "plt.subplot(1, 2, 1)\n",
        "plt.plot(epochs_range, acc, label='Training Accuracy')\n",
        "plt.plot(epochs_range, val_acc, label='Validation Accuracy')\n",
        "plt.legend(loc='lower right')\n",
        "plt.title('Training and Validation Accuracy')\n",
        "plt.subplot(1, 2, 2)\n",
        "plt.plot(epochs_range, loss, label='Training Loss')\n",
        "plt.plot(epochs_range, val_loss, label='Validation Loss')\n",
        "plt.legend(loc='upper right')\n",
        "plt.title('Training and Validation Loss')\n",
        "plt.show()"
      ]
    },
    {
      "cell_type": "code",
      "execution_count": null,
      "metadata": {
        "id": "VYLHhphhEw6K"
      },
      "outputs": [],
      "source": [
        "# Save the model\n",
        "model.save('Pneumonia_Efficientnet-B7.h5')"
      ]
    }
  ],
  "metadata": {
    "kernelspec": {
      "display_name": "Python 3.10.7 64-bit",
      "language": "python",
      "name": "python3"
    },
    "language_info": {
      "codemirror_mode": {
        "name": "ipython",
        "version": 3
      },
      "file_extension": ".py",
      "mimetype": "text/x-python",
      "name": "python",
      "nbconvert_exporter": "python",
      "pygments_lexer": "ipython3",
      "version": "3.10.7"
    },
    "orig_nbformat": 4,
    "vscode": {
      "interpreter": {
        "hash": "28328718739f0b0dcd54909b78dca6ccaf0c916f6b7d08f276d2b5deebde5e28"
      }
    },
    "colab": {
      "provenance": []
    },
    "accelerator": "GPU"
  },
  "nbformat": 4,
  "nbformat_minor": 0
}