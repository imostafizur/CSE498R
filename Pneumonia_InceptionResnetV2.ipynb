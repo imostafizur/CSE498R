{
  "cells": [
    {
      "cell_type": "code",
      "execution_count": 13,
      "metadata": {
        "colab": {
          "base_uri": "https://localhost:8080/"
        },
        "id": "VS4lYbJnlZWd",
        "outputId": "a267b7b1-2ce2-4e73-e34c-6d4089f7e095"
      },
      "outputs": [
        {
          "output_type": "stream",
          "name": "stdout",
          "text": [
            "fatal: destination path 'CSE498R' already exists and is not an empty directory.\n"
          ]
        }
      ],
      "source": [
        "!git clone https://github.com/imostafizur/CSE498R.git"
      ]
    },
    {
      "cell_type": "markdown",
      "metadata": {
        "id": "YStLhKL3lZWp"
      },
      "source": [
        "## Pneumonia Detection with InceptionResnetv2"
      ]
    },
    {
      "cell_type": "code",
      "execution_count": 14,
      "metadata": {
        "id": "isgii7VklZWt"
      },
      "outputs": [],
      "source": [
        "import os\n",
        "import numpy as np\n",
        "import pandas as pd\n",
        "import matplotlib.pyplot as plt\n",
        "import seaborn as sns\n",
        "import tensorflow as tf\n",
        "from tensorflow.keras.preprocessing.image import ImageDataGenerator\n",
        "from tensorflow.keras.applications.inception_resnet_v2 import InceptionResNetV2\n",
        "from tensorflow.keras.layers import Dense, GlobalAveragePooling2D, Dropout\n",
        "from tensorflow.keras.models import Model\n",
        "from tensorflow.keras.optimizers import Adam\n",
        "from tensorflow.keras.callbacks import ModelCheckpoint, EarlyStopping"
      ]
    },
    {
      "cell_type": "code",
      "execution_count": 15,
      "metadata": {
        "id": "GuaJDabqlZWw"
      },
      "outputs": [],
      "source": [
        "image = ('Pneumonia')\n"
      ]
    },
    {
      "cell_type": "code",
      "execution_count": 16,
      "metadata": {
        "id": "oj1oFVzWlZWz"
      },
      "outputs": [],
      "source": [
        "# InceptionResNetV2\n",
        "base_model = InceptionResNetV2(weights='imagenet', include_top=False, input_shape=(224, 224, 3))\n",
        "x = base_model.output\n",
        "x = GlobalAveragePooling2D()(x)\n",
        "x = Dense(1024, activation='relu')(x)\n",
        "x = Dropout(0.5)(x)\n",
        "predictions = Dense(1, activation='sigmoid')(x)\n",
        "model = Model(inputs=base_model.input, outputs=predictions)\n",
        "\n",
        "for layer in base_model.layers:\n",
        "    layer.trainable = False \n",
        "\n",
        "model.compile(optimizer=Adam(lr=0.0001), loss='binary_crossentropy', metrics=['accuracy'])\n"
      ]
    },
    {
      "cell_type": "code",
      "execution_count": 17,
      "metadata": {
        "id": "s5wRxd5slZW1"
      },
      "outputs": [],
      "source": [
        "# Data Augmentation\n",
        "train_datagen = ImageDataGenerator(rescale=1./255,\n",
        "                                      rotation_range=20,\n",
        "                                        width_shift_range=0.2,\n",
        "                                        height_shift_range=0.2,\n",
        "                                        shear_range=0.2,\n",
        "                                        zoom_range=0.2,\n",
        "                                        horizontal_flip=True,\n",
        "                                        fill_mode='nearest')"
      ]
    },
    {
      "cell_type": "code",
      "execution_count": 18,
      "metadata": {
        "id": "G8diZE5nlZW3"
      },
      "outputs": [],
      "source": [
        "# Data Augmentation\n",
        "test_datagen = ImageDataGenerator(rescale=1./255)"
      ]
    },
    {
      "cell_type": "code",
      "execution_count": 19,
      "metadata": {
        "colab": {
          "base_uri": "https://localhost:8080/"
        },
        "id": "Ozqt1-tulZW5",
        "outputId": "5b5472b9-97d1-4155-fcb7-f8c5d740e39b"
      },
      "outputs": [
        {
          "output_type": "stream",
          "name": "stdout",
          "text": [
            "Found 5216 images belonging to 2 classes.\n"
          ]
        }
      ],
      "source": [
        "# Data Augmentation\n",
        "train_generator = train_datagen.flow_from_directory(\n",
        "        'Pneumonia',\n",
        "        target_size=(224, 224),\n",
        "        batch_size=32,\n",
        "        class_mode='binary')"
      ]
    },
    {
      "cell_type": "code",
      "execution_count": 20,
      "metadata": {
        "colab": {
          "base_uri": "https://localhost:8080/"
        },
        "id": "glfyWICWlZW7",
        "outputId": "321c7bff-605b-43da-c24d-d373760a8971"
      },
      "outputs": [
        {
          "output_type": "stream",
          "name": "stdout",
          "text": [
            "Found 5216 images belonging to 2 classes.\n"
          ]
        }
      ],
      "source": [
        "# Data Augmentation\n",
        "validation_generator = test_datagen.flow_from_directory(\n",
        "        'Pneumonia',\n",
        "        target_size=(224, 224),\n",
        "        batch_size=32,\n",
        "        class_mode='binary')"
      ]
    },
    {
      "cell_type": "code",
      "execution_count": 21,
      "metadata": {
        "id": "ajcqeqfzlZW9"
      },
      "outputs": [],
      "source": [
        "# Data Augmentation\n",
        "checkpoint = ModelCheckpoint(\"Pneumonia_InceptionResnetV2.h5\", monitor='val_accuracy', verbose=1, save_best_only=True, save_weights_only=False, mode='auto', save_freq='epoch')"
      ]
    },
    {
      "cell_type": "code",
      "execution_count": 22,
      "metadata": {
        "id": "VO1UKRN6lZW-"
      },
      "outputs": [],
      "source": [
        "# Data Augmentation\n",
        "early = EarlyStopping(monitor='val_accuracy', min_delta=0, patience=20, verbose=1, mode='auto')"
      ]
    },
    {
      "cell_type": "code",
      "execution_count": 23,
      "metadata": {
        "colab": {
          "base_uri": "https://localhost:8080/"
        },
        "id": "SO5KAzOClZW_",
        "outputId": "e942b49c-d139-41bb-cc11-08e4bca53863"
      },
      "outputs": [
        {
          "output_type": "stream",
          "name": "stderr",
          "text": [
            "/usr/local/lib/python3.7/dist-packages/ipykernel_launcher.py:8: UserWarning: `Model.fit_generator` is deprecated and will be removed in a future version. Please use `Model.fit`, which supports generators.\n",
            "  \n"
          ]
        },
        {
          "output_type": "stream",
          "name": "stdout",
          "text": [
            "Epoch 1/100\n",
            "163/163 [==============================] - ETA: 0s - loss: 0.3497 - accuracy: 0.8386\n",
            "Epoch 1: val_accuracy improved from -inf to 0.92599, saving model to Pneumonia_InceptionResnetV2.h5\n",
            "163/163 [==============================] - 126s 714ms/step - loss: 0.3497 - accuracy: 0.8386 - val_loss: 0.2058 - val_accuracy: 0.9260\n",
            "Epoch 2/100\n",
            "163/163 [==============================] - ETA: 0s - loss: 0.2332 - accuracy: 0.9032\n",
            "Epoch 2: val_accuracy did not improve from 0.92599\n",
            "163/163 [==============================] - 111s 680ms/step - loss: 0.2332 - accuracy: 0.9032 - val_loss: 0.2300 - val_accuracy: 0.9030\n",
            "Epoch 3/100\n",
            "163/163 [==============================] - ETA: 0s - loss: 0.2177 - accuracy: 0.9086\n",
            "Epoch 3: val_accuracy improved from 0.92599 to 0.94737, saving model to Pneumonia_InceptionResnetV2.h5\n",
            "163/163 [==============================] - 112s 684ms/step - loss: 0.2177 - accuracy: 0.9086 - val_loss: 0.1356 - val_accuracy: 0.9474\n",
            "Epoch 4/100\n",
            "163/163 [==============================] - ETA: 0s - loss: 0.2046 - accuracy: 0.9189\n",
            "Epoch 4: val_accuracy did not improve from 0.94737\n",
            "163/163 [==============================] - 110s 677ms/step - loss: 0.2046 - accuracy: 0.9189 - val_loss: 0.1788 - val_accuracy: 0.9326\n",
            "Epoch 5/100\n",
            "163/163 [==============================] - ETA: 0s - loss: 0.1965 - accuracy: 0.9191\n",
            "Epoch 5: val_accuracy did not improve from 0.94737\n",
            "163/163 [==============================] - 111s 680ms/step - loss: 0.1965 - accuracy: 0.9191 - val_loss: 0.1834 - val_accuracy: 0.9243\n",
            "Epoch 6/100\n",
            "163/163 [==============================] - ETA: 0s - loss: 0.1918 - accuracy: 0.9220\n",
            "Epoch 6: val_accuracy did not improve from 0.94737\n",
            "163/163 [==============================] - 111s 682ms/step - loss: 0.1918 - accuracy: 0.9220 - val_loss: 0.1627 - val_accuracy: 0.9375\n",
            "Epoch 7/100\n",
            "163/163 [==============================] - ETA: 0s - loss: 0.1852 - accuracy: 0.9231\n",
            "Epoch 7: val_accuracy did not improve from 0.94737\n",
            "163/163 [==============================] - 111s 678ms/step - loss: 0.1852 - accuracy: 0.9231 - val_loss: 0.2307 - val_accuracy: 0.8964\n",
            "Epoch 8/100\n",
            "163/163 [==============================] - ETA: 0s - loss: 0.1892 - accuracy: 0.9195\n",
            "Epoch 8: val_accuracy did not improve from 0.94737\n",
            "163/163 [==============================] - 110s 674ms/step - loss: 0.1892 - accuracy: 0.9195 - val_loss: 0.1876 - val_accuracy: 0.9243\n",
            "Epoch 9/100\n",
            "163/163 [==============================] - ETA: 0s - loss: 0.1710 - accuracy: 0.9323\n",
            "Epoch 9: val_accuracy did not improve from 0.94737\n",
            "163/163 [==============================] - 111s 679ms/step - loss: 0.1710 - accuracy: 0.9323 - val_loss: 0.1469 - val_accuracy: 0.9474\n",
            "Epoch 10/100\n",
            "163/163 [==============================] - ETA: 0s - loss: 0.1688 - accuracy: 0.9298\n",
            "Epoch 10: val_accuracy improved from 0.94737 to 0.94901, saving model to Pneumonia_InceptionResnetV2.h5\n",
            "163/163 [==============================] - 112s 686ms/step - loss: 0.1688 - accuracy: 0.9298 - val_loss: 0.1439 - val_accuracy: 0.9490\n",
            "Epoch 11/100\n",
            "163/163 [==============================] - ETA: 0s - loss: 0.1760 - accuracy: 0.9293\n",
            "Epoch 11: val_accuracy did not improve from 0.94901\n",
            "163/163 [==============================] - 111s 680ms/step - loss: 0.1760 - accuracy: 0.9293 - val_loss: 0.1779 - val_accuracy: 0.9243\n",
            "Epoch 12/100\n",
            "163/163 [==============================] - ETA: 0s - loss: 0.1750 - accuracy: 0.9270\n",
            "Epoch 12: val_accuracy improved from 0.94901 to 0.95395, saving model to Pneumonia_InceptionResnetV2.h5\n",
            "163/163 [==============================] - 114s 699ms/step - loss: 0.1750 - accuracy: 0.9270 - val_loss: 0.1376 - val_accuracy: 0.9539\n",
            "Epoch 13/100\n",
            "163/163 [==============================] - ETA: 0s - loss: 0.1660 - accuracy: 0.9331\n",
            "Epoch 13: val_accuracy did not improve from 0.95395\n",
            "163/163 [==============================] - 115s 704ms/step - loss: 0.1660 - accuracy: 0.9331 - val_loss: 0.1379 - val_accuracy: 0.9441\n",
            "Epoch 14/100\n",
            "163/163 [==============================] - ETA: 0s - loss: 0.1637 - accuracy: 0.9352\n",
            "Epoch 14: val_accuracy did not improve from 0.95395\n",
            "163/163 [==============================] - 114s 698ms/step - loss: 0.1637 - accuracy: 0.9352 - val_loss: 0.1927 - val_accuracy: 0.9194\n",
            "Epoch 15/100\n",
            "163/163 [==============================] - ETA: 0s - loss: 0.1555 - accuracy: 0.9388\n",
            "Epoch 15: val_accuracy did not improve from 0.95395\n",
            "163/163 [==============================] - 114s 696ms/step - loss: 0.1555 - accuracy: 0.9388 - val_loss: 0.1518 - val_accuracy: 0.9441\n",
            "Epoch 16/100\n",
            "163/163 [==============================] - ETA: 0s - loss: 0.1533 - accuracy: 0.9371\n",
            "Epoch 16: val_accuracy did not improve from 0.95395\n",
            "163/163 [==============================] - 111s 677ms/step - loss: 0.1533 - accuracy: 0.9371 - val_loss: 0.1485 - val_accuracy: 0.9309\n",
            "Epoch 17/100\n",
            "163/163 [==============================] - ETA: 0s - loss: 0.1602 - accuracy: 0.9365\n",
            "Epoch 17: val_accuracy did not improve from 0.95395\n",
            "163/163 [==============================] - 110s 673ms/step - loss: 0.1602 - accuracy: 0.9365 - val_loss: 0.1377 - val_accuracy: 0.9490\n",
            "Epoch 18/100\n",
            "163/163 [==============================] - ETA: 0s - loss: 0.1517 - accuracy: 0.9406\n",
            "Epoch 18: val_accuracy did not improve from 0.95395\n",
            "163/163 [==============================] - 110s 677ms/step - loss: 0.1517 - accuracy: 0.9406 - val_loss: 0.1829 - val_accuracy: 0.9178\n",
            "Epoch 19/100\n",
            "163/163 [==============================] - ETA: 0s - loss: 0.1640 - accuracy: 0.9327\n",
            "Epoch 19: val_accuracy improved from 0.95395 to 0.95559, saving model to Pneumonia_InceptionResnetV2.h5\n",
            "163/163 [==============================] - 112s 687ms/step - loss: 0.1640 - accuracy: 0.9327 - val_loss: 0.1337 - val_accuracy: 0.9556\n",
            "Epoch 20/100\n",
            "163/163 [==============================] - ETA: 0s - loss: 0.1527 - accuracy: 0.9388\n",
            "Epoch 20: val_accuracy did not improve from 0.95559\n",
            "163/163 [==============================] - 112s 683ms/step - loss: 0.1527 - accuracy: 0.9388 - val_loss: 0.1345 - val_accuracy: 0.9474\n",
            "Epoch 21/100\n",
            "163/163 [==============================] - ETA: 0s - loss: 0.1460 - accuracy: 0.9434\n",
            "Epoch 21: val_accuracy did not improve from 0.95559\n",
            "163/163 [==============================] - 110s 676ms/step - loss: 0.1460 - accuracy: 0.9434 - val_loss: 0.1369 - val_accuracy: 0.9507\n",
            "Epoch 22/100\n",
            "163/163 [==============================] - ETA: 0s - loss: 0.1530 - accuracy: 0.9371\n",
            "Epoch 22: val_accuracy did not improve from 0.95559\n",
            "163/163 [==============================] - 110s 675ms/step - loss: 0.1530 - accuracy: 0.9371 - val_loss: 0.1517 - val_accuracy: 0.9441\n",
            "Epoch 23/100\n",
            "163/163 [==============================] - ETA: 0s - loss: 0.1517 - accuracy: 0.9417\n",
            "Epoch 23: val_accuracy did not improve from 0.95559\n",
            "163/163 [==============================] - 110s 674ms/step - loss: 0.1517 - accuracy: 0.9417 - val_loss: 0.1328 - val_accuracy: 0.9507\n",
            "Epoch 24/100\n",
            "163/163 [==============================] - ETA: 0s - loss: 0.1426 - accuracy: 0.9438\n",
            "Epoch 24: val_accuracy did not improve from 0.95559\n",
            "163/163 [==============================] - 111s 679ms/step - loss: 0.1426 - accuracy: 0.9438 - val_loss: 0.1585 - val_accuracy: 0.9276\n",
            "Epoch 25/100\n",
            "163/163 [==============================] - ETA: 0s - loss: 0.1563 - accuracy: 0.9373\n",
            "Epoch 25: val_accuracy did not improve from 0.95559\n",
            "163/163 [==============================] - 111s 679ms/step - loss: 0.1563 - accuracy: 0.9373 - val_loss: 0.1797 - val_accuracy: 0.9243\n",
            "Epoch 26/100\n",
            "163/163 [==============================] - ETA: 0s - loss: 0.1472 - accuracy: 0.9413\n",
            "Epoch 26: val_accuracy did not improve from 0.95559\n",
            "163/163 [==============================] - 110s 675ms/step - loss: 0.1472 - accuracy: 0.9413 - val_loss: 0.1185 - val_accuracy: 0.9523\n",
            "Epoch 27/100\n",
            "163/163 [==============================] - ETA: 0s - loss: 0.1446 - accuracy: 0.9417\n",
            "Epoch 27: val_accuracy did not improve from 0.95559\n",
            "163/163 [==============================] - 111s 680ms/step - loss: 0.1446 - accuracy: 0.9417 - val_loss: 0.1262 - val_accuracy: 0.9507\n",
            "Epoch 28/100\n",
            "163/163 [==============================] - ETA: 0s - loss: 0.1471 - accuracy: 0.9398\n",
            "Epoch 28: val_accuracy did not improve from 0.95559\n",
            "163/163 [==============================] - 111s 679ms/step - loss: 0.1471 - accuracy: 0.9398 - val_loss: 0.1731 - val_accuracy: 0.9211\n",
            "Epoch 29/100\n",
            "163/163 [==============================] - ETA: 0s - loss: 0.1374 - accuracy: 0.9465\n",
            "Epoch 29: val_accuracy did not improve from 0.95559\n",
            "163/163 [==============================] - 111s 678ms/step - loss: 0.1374 - accuracy: 0.9465 - val_loss: 0.1247 - val_accuracy: 0.9441\n",
            "Epoch 30/100\n",
            "163/163 [==============================] - ETA: 0s - loss: 0.1480 - accuracy: 0.9429\n",
            "Epoch 30: val_accuracy did not improve from 0.95559\n",
            "163/163 [==============================] - 110s 675ms/step - loss: 0.1480 - accuracy: 0.9429 - val_loss: 0.1417 - val_accuracy: 0.9490\n",
            "Epoch 31/100\n",
            "163/163 [==============================] - ETA: 0s - loss: 0.1392 - accuracy: 0.9434\n",
            "Epoch 31: val_accuracy did not improve from 0.95559\n",
            "163/163 [==============================] - 111s 677ms/step - loss: 0.1392 - accuracy: 0.9434 - val_loss: 0.1215 - val_accuracy: 0.9490\n",
            "Epoch 32/100\n",
            "163/163 [==============================] - ETA: 0s - loss: 0.1426 - accuracy: 0.9442\n",
            "Epoch 32: val_accuracy improved from 0.95559 to 0.95888, saving model to Pneumonia_InceptionResnetV2.h5\n",
            "163/163 [==============================] - 112s 687ms/step - loss: 0.1426 - accuracy: 0.9442 - val_loss: 0.1244 - val_accuracy: 0.9589\n",
            "Epoch 33/100\n",
            "163/163 [==============================] - ETA: 0s - loss: 0.1444 - accuracy: 0.9434\n",
            "Epoch 33: val_accuracy did not improve from 0.95888\n",
            "163/163 [==============================] - 111s 681ms/step - loss: 0.1444 - accuracy: 0.9434 - val_loss: 0.1139 - val_accuracy: 0.9539\n",
            "Epoch 34/100\n",
            "163/163 [==============================] - ETA: 0s - loss: 0.1337 - accuracy: 0.9479\n",
            "Epoch 34: val_accuracy did not improve from 0.95888\n",
            "163/163 [==============================] - 114s 698ms/step - loss: 0.1337 - accuracy: 0.9479 - val_loss: 0.1630 - val_accuracy: 0.9293\n",
            "Epoch 35/100\n",
            "163/163 [==============================] - ETA: 0s - loss: 0.1418 - accuracy: 0.9444\n",
            "Epoch 35: val_accuracy improved from 0.95888 to 0.96546, saving model to Pneumonia_InceptionResnetV2.h5\n",
            "163/163 [==============================] - 112s 685ms/step - loss: 0.1418 - accuracy: 0.9444 - val_loss: 0.1013 - val_accuracy: 0.9655\n",
            "Epoch 36/100\n",
            "163/163 [==============================] - ETA: 0s - loss: 0.1459 - accuracy: 0.9417\n",
            "Epoch 36: val_accuracy did not improve from 0.96546\n",
            "163/163 [==============================] - 111s 682ms/step - loss: 0.1459 - accuracy: 0.9417 - val_loss: 0.1173 - val_accuracy: 0.9622\n",
            "Epoch 37/100\n",
            "163/163 [==============================] - ETA: 0s - loss: 0.1382 - accuracy: 0.9454\n",
            "Epoch 37: val_accuracy improved from 0.96546 to 0.96711, saving model to Pneumonia_InceptionResnetV2.h5\n",
            "163/163 [==============================] - 112s 688ms/step - loss: 0.1382 - accuracy: 0.9454 - val_loss: 0.0897 - val_accuracy: 0.9671\n",
            "Epoch 38/100\n",
            "163/163 [==============================] - ETA: 0s - loss: 0.1347 - accuracy: 0.9463\n",
            "Epoch 38: val_accuracy did not improve from 0.96711\n",
            "163/163 [==============================] - 110s 673ms/step - loss: 0.1347 - accuracy: 0.9463 - val_loss: 0.1317 - val_accuracy: 0.9523\n",
            "Epoch 39/100\n",
            "163/163 [==============================] - ETA: 0s - loss: 0.1358 - accuracy: 0.9459\n",
            "Epoch 39: val_accuracy did not improve from 0.96711\n",
            "163/163 [==============================] - 110s 673ms/step - loss: 0.1358 - accuracy: 0.9459 - val_loss: 0.1594 - val_accuracy: 0.9408\n",
            "Epoch 40/100\n",
            "163/163 [==============================] - ETA: 0s - loss: 0.1426 - accuracy: 0.9446\n",
            "Epoch 40: val_accuracy did not improve from 0.96711\n",
            "163/163 [==============================] - 110s 676ms/step - loss: 0.1426 - accuracy: 0.9446 - val_loss: 0.1379 - val_accuracy: 0.9391\n",
            "Epoch 41/100\n",
            "163/163 [==============================] - ETA: 0s - loss: 0.1300 - accuracy: 0.9450\n",
            "Epoch 41: val_accuracy did not improve from 0.96711\n",
            "163/163 [==============================] - 111s 679ms/step - loss: 0.1300 - accuracy: 0.9450 - val_loss: 0.2363 - val_accuracy: 0.9145\n",
            "Epoch 42/100\n",
            "163/163 [==============================] - ETA: 0s - loss: 0.1430 - accuracy: 0.9398\n",
            "Epoch 42: val_accuracy did not improve from 0.96711\n",
            "163/163 [==============================] - 111s 682ms/step - loss: 0.1430 - accuracy: 0.9398 - val_loss: 0.1063 - val_accuracy: 0.9638\n",
            "Epoch 43/100\n",
            "163/163 [==============================] - ETA: 0s - loss: 0.1321 - accuracy: 0.9440\n",
            "Epoch 43: val_accuracy did not improve from 0.96711\n",
            "163/163 [==============================] - 111s 678ms/step - loss: 0.1321 - accuracy: 0.9440 - val_loss: 0.1305 - val_accuracy: 0.9507\n",
            "Epoch 44/100\n",
            "163/163 [==============================] - ETA: 0s - loss: 0.1362 - accuracy: 0.9480\n",
            "Epoch 44: val_accuracy did not improve from 0.96711\n",
            "163/163 [==============================] - 111s 680ms/step - loss: 0.1362 - accuracy: 0.9480 - val_loss: 0.1260 - val_accuracy: 0.9539\n",
            "Epoch 45/100\n",
            "163/163 [==============================] - ETA: 0s - loss: 0.1432 - accuracy: 0.9413\n",
            "Epoch 45: val_accuracy did not improve from 0.96711\n",
            "163/163 [==============================] - 111s 682ms/step - loss: 0.1432 - accuracy: 0.9413 - val_loss: 0.1121 - val_accuracy: 0.9589\n",
            "Epoch 46/100\n",
            "163/163 [==============================] - ETA: 0s - loss: 0.1309 - accuracy: 0.9475\n",
            "Epoch 46: val_accuracy did not improve from 0.96711\n",
            "163/163 [==============================] - 111s 681ms/step - loss: 0.1309 - accuracy: 0.9475 - val_loss: 0.1100 - val_accuracy: 0.9605\n",
            "Epoch 47/100\n",
            "163/163 [==============================] - ETA: 0s - loss: 0.1261 - accuracy: 0.9525\n",
            "Epoch 47: val_accuracy did not improve from 0.96711\n",
            "163/163 [==============================] - 111s 678ms/step - loss: 0.1261 - accuracy: 0.9525 - val_loss: 0.1391 - val_accuracy: 0.9375\n",
            "Epoch 48/100\n",
            "163/163 [==============================] - ETA: 0s - loss: 0.1289 - accuracy: 0.9492\n",
            "Epoch 48: val_accuracy did not improve from 0.96711\n",
            "163/163 [==============================] - 112s 684ms/step - loss: 0.1289 - accuracy: 0.9492 - val_loss: 0.1559 - val_accuracy: 0.9391\n",
            "Epoch 49/100\n",
            "163/163 [==============================] - ETA: 0s - loss: 0.1390 - accuracy: 0.9454\n",
            "Epoch 49: val_accuracy did not improve from 0.96711\n",
            "163/163 [==============================] - 111s 682ms/step - loss: 0.1390 - accuracy: 0.9454 - val_loss: 0.1190 - val_accuracy: 0.9638\n",
            "Epoch 50/100\n",
            "163/163 [==============================] - ETA: 0s - loss: 0.1289 - accuracy: 0.9498\n",
            "Epoch 50: val_accuracy did not improve from 0.96711\n",
            "163/163 [==============================] - 111s 678ms/step - loss: 0.1289 - accuracy: 0.9498 - val_loss: 0.1266 - val_accuracy: 0.9474\n",
            "Epoch 51/100\n",
            "163/163 [==============================] - ETA: 0s - loss: 0.1231 - accuracy: 0.9517\n",
            "Epoch 51: val_accuracy did not improve from 0.96711\n",
            "163/163 [==============================] - 111s 679ms/step - loss: 0.1231 - accuracy: 0.9517 - val_loss: 0.1414 - val_accuracy: 0.9375\n",
            "Epoch 52/100\n",
            "163/163 [==============================] - ETA: 0s - loss: 0.1318 - accuracy: 0.9450\n",
            "Epoch 52: val_accuracy did not improve from 0.96711\n",
            "163/163 [==============================] - 111s 679ms/step - loss: 0.1318 - accuracy: 0.9450 - val_loss: 0.1669 - val_accuracy: 0.9243\n",
            "Epoch 53/100\n",
            "163/163 [==============================] - ETA: 0s - loss: 0.1337 - accuracy: 0.9498\n",
            "Epoch 53: val_accuracy did not improve from 0.96711\n",
            "163/163 [==============================] - 111s 683ms/step - loss: 0.1337 - accuracy: 0.9498 - val_loss: 0.1059 - val_accuracy: 0.9605\n",
            "Epoch 54/100\n",
            "163/163 [==============================] - ETA: 0s - loss: 0.1202 - accuracy: 0.9505\n",
            "Epoch 54: val_accuracy did not improve from 0.96711\n",
            "163/163 [==============================] - 110s 672ms/step - loss: 0.1202 - accuracy: 0.9505 - val_loss: 0.1180 - val_accuracy: 0.9507\n",
            "Epoch 55/100\n",
            "163/163 [==============================] - ETA: 0s - loss: 0.1309 - accuracy: 0.9496\n",
            "Epoch 55: val_accuracy did not improve from 0.96711\n",
            "163/163 [==============================] - 111s 681ms/step - loss: 0.1309 - accuracy: 0.9496 - val_loss: 0.1301 - val_accuracy: 0.9457\n",
            "Epoch 56/100\n",
            "163/163 [==============================] - ETA: 0s - loss: 0.1289 - accuracy: 0.9494\n",
            "Epoch 56: val_accuracy did not improve from 0.96711\n",
            "163/163 [==============================] - 111s 681ms/step - loss: 0.1289 - accuracy: 0.9494 - val_loss: 0.1330 - val_accuracy: 0.9441\n",
            "Epoch 57/100\n",
            "163/163 [==============================] - ETA: 0s - loss: 0.1328 - accuracy: 0.9479\n",
            "Epoch 57: val_accuracy did not improve from 0.96711\n",
            "163/163 [==============================] - 111s 679ms/step - loss: 0.1328 - accuracy: 0.9479 - val_loss: 0.1782 - val_accuracy: 0.9227\n",
            "Epoch 57: early stopping\n"
          ]
        }
      ],
      "source": [
        "# Data Augmentation\n",
        "hist = model.fit_generator(\n",
        "        train_generator,\n",
        "        steps_per_epoch=5216 // 32,\n",
        "        epochs=100,\n",
        "        validation_data=validation_generator,\n",
        "        validation_steps=624 // 32,\n",
        "        callbacks=[checkpoint, early])\n",
        "        "
      ]
    },
    {
      "cell_type": "code",
      "execution_count": 24,
      "metadata": {
        "colab": {
          "base_uri": "https://localhost:8080/",
          "height": 295
        },
        "id": "1Q4kUeeolZXB",
        "outputId": "ed700d79-d218-40f9-f499-790662262cb9"
      },
      "outputs": [
        {
          "output_type": "display_data",
          "data": {
            "text/plain": [
              "<Figure size 432x288 with 1 Axes>"
            ],
            "image/png": "[encoded data removed]"
          },
          "metadata": {
            "needs_background": "light"
          }
        }
      ],
      "source": [
        "# Accuracy\n",
        "plt.plot(hist.history['accuracy'])\n",
        "plt.plot(hist.history['val_accuracy'])\n",
        "plt.title('model accuracy')\n",
        "plt.ylabel('accuracy')\n",
        "plt.xlabel('epoch')\n",
        "plt.legend(['train', 'val'], loc='upper left')\n",
        "plt.show()"
      ]
    },
    {
      "cell_type": "code",
      "source": [
        "print(\"Accuracy: \", hist.history['accuracy'][-1]*100)"
      ],
      "metadata": {
        "id": "HXaOzUtgC5De",
        "outputId": "0acb4b88-d736-45e2-fd64-007208d595ea",
        "colab": {
          "base_uri": "https://localhost:8080/"
        }
      },
      "execution_count": 26,
      "outputs": [
        {
          "output_type": "stream",
          "name": "stdout",
          "text": [
            "Accuracy:  94.78527903556824\n"
          ]
        }
      ]
    },
    {
      "cell_type": "code",
      "execution_count": 25,
      "metadata": {
        "id": "oRDJ4CNGlZXI"
      },
      "outputs": [],
      "source": [
        "# Save the model\n",
        "model.save(\"Pneumonia_InceptionResnetV2.h5\")"
      ]
    }
  ],
  "metadata": {
    "kernelspec": {
      "display_name": "Python 3.10.7 64-bit",
      "language": "python",
      "name": "python3"
    },
    "language_info": {
      "codemirror_mode": {
        "name": "ipython",
        "version": 3
      },
      "file_extension": ".py",
      "mimetype": "text/x-python",
      "name": "python",
      "nbconvert_exporter": "python",
      "pygments_lexer": "ipython3",
      "version": "3.10.7"
    },
    "orig_nbformat": 4,
    "vscode": {
      "interpreter": {
        "hash": "28328718739f0b0dcd54909b78dca6ccaf0c916f6b7d08f276d2b5deebde5e28"
      }
    },
    "colab": {
      "provenance": []
    },
    "accelerator": "GPU"
  },
  "nbformat": 4,
  "nbformat_minor": 0
}